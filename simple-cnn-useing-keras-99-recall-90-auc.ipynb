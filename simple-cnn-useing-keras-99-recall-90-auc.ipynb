{
 "cells": [
  {
   "cell_type": "code",
   "execution_count": null,
   "metadata": {
    "_uuid": "fb1b50cb97df0b63e70ba57c7535e6d575837a0c",
    "collapsed": true,
    "pycharm": {
     "name": "#%%\n"
    }
   },
   "outputs": [],
   "source": [
    "model = Sequential()\n",
    "model.add(Conv2D(filters=32, kernel_size=(3,3), activation=\"relu\", padding=\"same\",\n",
    "                 input_shape=(64,64,1)))\n",
    "model.add(Conv2D(filters=32, kernel_size=(3,3), activation=\"relu\", padding=\"same\"))\n",
    "model.add(BatchNormalization())\n",
    "model.add(MaxPooling2D(pool_size=(2,2)))\n",
    "model.add(Dropout(rate=0.25))\n",
    "model.add(Conv2D(filters=64, kernel_size=(3,3), activation=\"relu\", padding=\"same\"))\n",
    "model.add(Conv2D(filters=64, kernel_size=(3,3), activation=\"relu\", padding=\"same\"))\n",
    "model.add(BatchNormalization())\n",
    "model.add(MaxPooling2D(pool_size=(2,2)))\n",
    "model.add(Dropout(rate=0.25))\n",
    "model.add(Flatten())\n",
    "model.add(Dense(1024,activation=\"relu\"))\n",
    "model.add(BatchNormalization())\n",
    "model.add(Dropout(rate=0.4))\n",
    "model.add(Dense(2, activation=\"softmax\"))\n",
    "\n",
    "\n",
    "model.compile(Adam(lr=0.001),loss=\"categorical_crossentropy\", metrics=[\"accuracy\"])\n",
    "\n",
    "\n",
    "gen = ImageDataGenerator()\n",
    "train_batches = gen.flow_from_directory(\"../input/chest_xray/chest_xray/train\",model.input_shape[1:3],color_mode=\"grayscale\",shuffle=True,seed=1,\n",
    "                                        batch_size=16)\n",
    "valid_batches = gen.flow_from_directory(\"../input/chest_xray/chest_xray/val\", model.input_shape[1:3],color_mode=\"grayscale\", shuffle=True,seed=1,\n",
    "                                        batch_size=16)\n",
    "test_batches = gen.flow_from_directory(\"../input/chest_xray/chest_xray/test\", model.input_shape[1:3], shuffle=False,\n",
    "                                       color_mode=\"grayscale\", batch_size=8)\n",
    "\n",
    "model.fit_generator(train_batches,validation_data=valid_batches,epochs=3)\n",
    "\n",
    "model.compile(Adam(lr=0.0001),loss=\"categorical_crossentropy\", metrics=[\"accuracy\"])\n",
    "model.fit_generator(train_batches,validation_data=valid_batches,epochs=3)\n",
    "\n",
    "p = model.predict_generator(test_batches, verbose=True)\n",
    "pre = pd.DataFrame(p)\n",
    "pre[\"filename\"] = test_batches.filenames\n",
    "pre[\"label\"] = (pre[\"filename\"].str.contains(\"PNEUMONIA\")).apply(int)\n",
    "pre['pre'] = (pre[1]>0.5).apply(int)\n",
    "\n",
    "recall_score(pre[\"label\"],pre[\"pre\"])\n",
    "\n",
    "roc_auc_score(pre[\"label\"],pre[1])\n",
    "\n",
    "tpr,fpr,thres = roc_curve(pre[\"label\"],pre[1])\n",
    "roc = pd.DataFrame([tpr,fpr]).T\n",
    "roc.plot(x = 0, y = 1)"
   ]
  }
 ],
 "metadata": {
  "kernelspec": {
   "display_name": "Python 3",
   "language": "python",
   "name": "python3"
  },
  "language_info": {
   "codemirror_mode": {
    "name": "ipython",
    "version": 3
   },
   "file_extension": ".py",
   "mimetype": "text/x-python",
   "name": "python",
   "nbconvert_exporter": "python",
   "pygments_lexer": "ipython3",
   "version": "3.6.10"
  },
  "pycharm": {
   "stem_cell": {
    "cell_type": "raw",
    "source": [
     "# A simple and fast cnn model, very easy to use.  It's not the best score, do some little changes and more round training  it will have better result. \n",
     "\n",
     "# This Python 3 environment comes with many helpful analytics libraries installed\n",
     "# It is defined by the kaggle/python docker image: https://github.com/kaggle/docker-python\n",
     "# For example, here's several helpful packages to load in \n",
     "\n",
     "import numpy as np # linear algebra\n",
     "import pandas as pd # data processing, CSV file I/O (e.g. pd.read_csv)\n",
     "\n",
     "# Input data files are available in the \"../input/\" directory.\n",
     "# For example, running this (by clicking run or pressing Shift+Enter) will list the files in the input directory\n",
     "\n",
     "import os\n",
     "print(os.listdir(\"sample/train\"))\n",
     "\n",
     "# Any results you write to the current directory are saved as output.\n",
     "\n",
     "import keras\n",
     "import pandas as pd\n",
     "import numpy as np\n",
     "import matplotlib.pyplot as plt\n",
     "from keras.models import Sequential\n",
     "from keras.layers import Conv2D,MaxPool2D,Dense,Dropout,Softmax,Input,Flatten\n",
     "from keras.optimizers import Adam,RMSprop,SGD\n",
     "from keras.layers.merge import add\n",
     "from keras.layers import Dense, Activation, Flatten\n",
     "from keras.layers import Conv2D, MaxPooling2D, BatchNormalization\n",
     "from keras.layers import BatchNormalization\n",
     "\n",
     "from sklearn.metrics import roc_auc_score,roc_curve,accuracy_score,recall_score\n",
     "from keras.metrics import categorical_accuracy\n",
     "%matplotlib inline\n",
     "from keras.preprocessing.image import ImageDataGenerator\n",
     "\n",
     "from tensorflow import set_random_seed\n",
     "os.environ['PYTHONHASHSEED'] = \"0\"\n",
     "np.random.seed(1)\n",
     "set_random_seed(2)\n"
    ],
    "metadata": {
     "collapsed": false
    }
   }
  }
 },
 "nbformat": 4,
 "nbformat_minor": 1
}