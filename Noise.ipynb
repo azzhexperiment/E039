{
 "cells": [
  {
   "cell_type": "code",
   "execution_count": 3,
   "metadata": {},
   "outputs": [
    {
     "name": "stdout",
     "output_type": "stream",
     "text": [
      "(3,)\n"
     ]
    },
    {
     "data": {
      "text/plain": [
       "numpy.ndarray"
      ]
     },
     "execution_count": 3,
     "metadata": {},
     "output_type": "execute_result"
    }
   ],
   "source": [
    "import skimage\n",
    "import numpy as np\n",
    "import os\n",
    "from skimage import io\n",
    "import matplotlib.pyplot as plt\n",
    "from tensorflow.keras.preprocessing.image import save_img\n",
    "\n",
    "img_path='normal_noise_test'\n",
    "img_path_images = os.listdir(img_path)\n",
    "\n",
    "def gen_noise(data_path, mode):\n",
    "    gimg_set = []\n",
    "    for filename in data_path:\n",
    "        img = img_to_array(load_img(img_path + \"/\" + filename))\n",
    "        img = img / 255.0\n",
    "        gimg = skimage.util.random_noise(img, mode=mode)\n",
    "        gimg_set.append(gimg)\n",
    "    gimg_set = np.asarray(gimg_set)\n",
    "    return gimg_set\n",
    "\n",
    "noise_images = gen_noise(img_path_images, 'gaussian')\n",
    "print(noise_images.shape)\n",
    "type(noise_images)"
   ]
  },
  {
   "cell_type": "code",
   "execution_count": 4,
   "metadata": {},
   "outputs": [],
   "source": [
    "for i in range(len(noise_images)):\n",
    "    save_img(\"output/noise_normal/{}.png\".format(i), noise_images[i])\n",
    "    #save_img(\"output/gan_pneumonia/{}.png\".format(i+3000), gan_images[i])"
   ]
  },
  {
   "cell_type": "code",
   "execution_count": null,
   "metadata": {},
   "outputs": [],
   "source": []
  }
 ],
 "metadata": {
  "kernelspec": {
   "display_name": "Python 3",
   "language": "python",
   "name": "python3"
  },
  "language_info": {
   "codemirror_mode": {
    "name": "ipython",
    "version": 3
   },
   "file_extension": ".py",
   "mimetype": "text/x-python",
   "name": "python",
   "nbconvert_exporter": "python",
   "pygments_lexer": "ipython3",
   "version": "3.6.10"
  }
 },
 "nbformat": 4,
 "nbformat_minor": 4
}
